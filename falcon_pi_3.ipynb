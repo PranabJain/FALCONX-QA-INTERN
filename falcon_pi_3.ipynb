{
 "cells": [
  {
   "cell_type": "code",
   "execution_count": 45,
   "id": "75458826",
   "metadata": {},
   "outputs": [],
   "source": [
    "import requests\n",
    "import json\n",
    "import pandas as pd\n",
    "import matplotlib.pyplot as plt\n",
    "import numpy as np"
   ]
  },
  {
   "cell_type": "code",
   "execution_count": 46,
   "id": "52f402b6",
   "metadata": {},
   "outputs": [],
   "source": [
    "query = \"\"\"query swaps{\n",
    "  swaps(orderBy: timestamp, orderDirection: desc, where:{pair: \"0x000bc4f31d2c8dcc66f6f1c93bb00920e3ea6c5d\"}) {\n",
    "    Pool_id:id\n",
    "    timestamp\n",
    "    amount0In\n",
    "    amount1In\n",
    "    amount0Out\n",
    "    amount1Out\n",
    "  \n",
    "    pair {\n",
    "      token0 {\n",
    "        id\n",
    "        symbol\n",
    "        tradeVolume\n",
    "        liquidity_pool:totalLiquidity\n",
    "      }\n",
    "      token1 {\n",
    "        id\n",
    "        symbol\n",
    "        tradeVolume\n",
    "        liquidity_pool:totalLiquidity\n",
    "      }\n",
    "    volumeUSD\n",
    "    reserveUSD\n",
    "    }\n",
    "  }\n",
    "}\"\"\""
   ]
  },
  {
   "cell_type": "code",
   "execution_count": null,
   "id": "38b3b8a8",
   "metadata": {},
   "outputs": [],
   "source": [
    "url = 'https://api.thegraph.com/subgraphs/name/uniswap/uniswap-v2'\n",
    "r = requests.post(url, json={'query': query})\n",
    "print(r.status_code)\n",
    "print(r.text)"
   ]
  },
  {
   "cell_type": "code",
   "execution_count": null,
   "id": "517a5dbe",
   "metadata": {},
   "outputs": [],
   "source": [
    "json_data = json.loads(r.text)"
   ]
  },
  {
   "cell_type": "code",
   "execution_count": null,
   "id": "ba812b8e",
   "metadata": {},
   "outputs": [],
   "source": [
    "json_data"
   ]
  },
  {
   "cell_type": "code",
   "execution_count": null,
   "id": "e55e78ec",
   "metadata": {},
   "outputs": [],
   "source": [
    "def transaction_type(row):\n",
    "    if row['amount0In'] == '0':\n",
    "        return 'sell'\n",
    "    else:\n",
    "        return 'buy'\n",
    "def pairRetrieve(row,key,column):\n",
    "    print(row)\n",
    "    return row[column][key]"
   ]
  },
  {
   "cell_type": "code",
   "execution_count": null,
   "id": "051629e7",
   "metadata": {},
   "outputs": [],
   "source": [
    "df_data = json_data['data']['swaps']\n",
    "df = pd.DataFrame(df_data)\n",
    "keys = df['pair'][0].keys()\n",
    "for i in keys:\n",
    "    df[i] = df.apply(pairRetrieve,args=(i,'pair'),axis =1)"
   ]
  },
  {
   "cell_type": "code",
   "execution_count": null,
   "id": "d6586aa9",
   "metadata": {},
   "outputs": [],
   "source": [
    "df['side'] = df.apply(transaction_type,axis=1)"
   ]
  },
  {
   "cell_type": "code",
   "execution_count": null,
   "id": "b5abe651",
   "metadata": {},
   "outputs": [],
   "source": [
    "keys = df['token0'][0].keys()\n",
    "for i in keys:\n",
    "    df[i + '_token0'] = df.apply(pairRetrieve,args=(i,'token0'),axis =1)\n",
    "    \n",
    "keys = df['token1'][0].keys()\n",
    "for i in keys:\n",
    "    df[i + '_token1'] = df.apply(pairRetrieve,args=(i,'token1'),axis =1)"
   ]
  },
  {
   "cell_type": "code",
   "execution_count": null,
   "id": "452216b2",
   "metadata": {},
   "outputs": [],
   "source": [
    "\n",
    "df=df.drop(['pair'], axis = 1)\n",
    "df=df.drop(['token0'], axis = 1)\n",
    "df=df.drop(['token1'], axis = 1)\n"
   ]
  },
  {
   "cell_type": "code",
   "execution_count": null,
   "id": "99acdced",
   "metadata": {},
   "outputs": [],
   "source": []
  },
  {
   "cell_type": "code",
   "execution_count": null,
   "id": "3943a395",
   "metadata": {},
   "outputs": [],
   "source": [
    "query2 = \"\"\"{\n",
    " pairs(first: 100, orderBy: reserveUSD, orderDirection: desc) {\n",
    "   id\n",
    "  reserveUSD\n",
    "  token0{\n",
    "    symbol}\n",
    "  token1{\n",
    "    symbol\n",
    "  }\n",
    "  }\n",
    " }\"\"\""
   ]
  },
  {
   "cell_type": "code",
   "execution_count": null,
   "id": "ff49a5d9",
   "metadata": {},
   "outputs": [],
   "source": [
    "url = 'https://api.thegraph.com/subgraphs/name/uniswap/uniswap-v2'\n",
    "r = requests.post(url, json={'query': query2})\n",
    "print(r.status_code)\n",
    "print(r.text)\n",
    "json_data = json.loads(r.text)"
   ]
  },
  {
   "cell_type": "code",
   "execution_count": null,
   "id": "ed65d33b",
   "metadata": {},
   "outputs": [],
   "source": [
    "df2 = json_data['data']['pairs']\n",
    "df2 = pd.DataFrame(df2)"
   ]
  },
  {
   "cell_type": "code",
   "execution_count": null,
   "id": "ae577850",
   "metadata": {},
   "outputs": [],
   "source": [
    "df3 = pd.DataFrame(df2[0:10])"
   ]
  },
  {
   "cell_type": "code",
   "execution_count": null,
   "id": "7596e609",
   "metadata": {},
   "outputs": [],
   "source": [
    "def func(row):\n",
    "    return row['token0']['symbol'] + ' ' + row['token1']['symbol']"
   ]
  },
  {
   "cell_type": "code",
   "execution_count": null,
   "id": "ff099e9d",
   "metadata": {},
   "outputs": [],
   "source": [
    "df3['token'] = df3.apply(func,axis=1)"
   ]
  },
  {
   "cell_type": "code",
   "execution_count": null,
   "id": "94667b9f",
   "metadata": {},
   "outputs": [],
   "source": [
    "mylabels = list(df3['token'])\n",
    "values = np.array(df3['reserveUSD'])\n",
    "\n",
    "\n",
    "plt.pie(values, labels = mylabels)\n",
    "plt.show() "
   ]
  },
  {
   "cell_type": "code",
   "execution_count": null,
   "id": "54f4b481",
   "metadata": {},
   "outputs": [],
   "source": [
    "sum_total = df2.astype({'reserveUSD':'float64'}).sum()\n",
    "sum_top10 = df3.astype({'reserveUSD':'float64'}).sum()"
   ]
  },
  {
   "cell_type": "code",
   "execution_count": null,
   "id": "1c681608",
   "metadata": {},
   "outputs": [],
   "source": [
    "mylabels = ['Top100','Top10']\n",
    "values =[float(sum_total['reserveUSD']), float(sum_top10['reserveUSD'])]\n",
    "\n",
    "plt.pie(values, labels = mylabels)\n",
    "plt.show() "
   ]
  },
  {
   "cell_type": "code",
   "execution_count": null,
   "id": "72798e1f",
   "metadata": {},
   "outputs": [],
   "source": []
  },
  {
   "cell_type": "code",
   "execution_count": null,
   "id": "0c548401",
   "metadata": {},
   "outputs": [],
   "source": []
  }
 ],
 "metadata": {
  "kernelspec": {
   "display_name": "Python 3",
   "language": "python",
   "name": "python3"
  },
  "language_info": {
   "codemirror_mode": {
    "name": "ipython",
    "version": 3
   },
   "file_extension": ".py",
   "mimetype": "text/x-python",
   "name": "python",
   "nbconvert_exporter": "python",
   "pygments_lexer": "ipython3",
   "version": "3.8.8"
  }
 },
 "nbformat": 4,
 "nbformat_minor": 5
}
